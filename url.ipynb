{
 "cells": [
  {
   "cell_type": "code",
   "execution_count": null,
   "id": "73503468",
   "metadata": {},
   "outputs": [
    {
     "name": "stdout",
     "output_type": "stream",
     "text": [
      " * Serving Flask app '__main__'\n",
      " * Debug mode: on\n"
     ]
    },
    {
     "name": "stderr",
     "output_type": "stream",
     "text": [
      "WARNING: This is a development server. Do not use it in a production deployment. Use a production WSGI server instead.\n",
      " * Running on http://127.0.0.1:5000\n",
      "Press CTRL+C to quit\n",
      "127.0.0.1 - - [13/Jan/2023 03:42:28] \"GET / HTTP/1.1\" 200 -\n",
      "127.0.0.1 - - [13/Jan/2023 03:42:28] \"GET /static/css/style.css HTTP/1.1\" 200 -\n",
      "127.0.0.1 - - [13/Jan/2023 03:42:28] \"GET /favicon.ico HTTP/1.1\" 404 -\n",
      "127.0.0.1 - - [13/Jan/2023 03:42:38] \"POST /predict HTTP/1.1\" 200 -\n",
      "127.0.0.1 - - [13/Jan/2023 03:42:38] \"GET /static/css/style.css HTTP/1.1\" 304 -\n",
      "127.0.0.1 - - [13/Jan/2023 03:42:53] \"POST /predict HTTP/1.1\" 200 -\n",
      "127.0.0.1 - - [13/Jan/2023 03:42:53] \"GET /static/css/style.css HTTP/1.1\" 304 -\n"
     ]
    }
   ],
   "source": [
    "#Importing the Libraries\n",
    "import numpy as np\n",
    "from flask import Flask, request,render_template\n",
    "from flask_cors import CORS\n",
    "import os\n",
    "#from sklearn.externals import joblib\n",
    "import pickle\n",
    "import flask\n",
    "import os\n",
    "import newspaper\n",
    "from newspaper import Article\n",
    "import urllib\n",
    "import joblib\n",
    "#Loading Flask and assigning the model variable\n",
    "app = Flask(__name__)\n",
    "CORS(app)\n",
    "app=flask.Flask(__name__,template_folder='templates')\n",
    "\n",
    "with open('model.pickle', 'rb') as handle:\n",
    "\tmodel = pickle.load(handle)\n",
    "\n",
    "@app.route('/')\n",
    "def main():\n",
    "    return render_template('main.html')\n",
    "\n",
    "#Receiving the input url from the user and using Web Scrapping to extract the news content\n",
    "@app.route('/predict',methods=['GET','POST'])\n",
    "def predict():\n",
    "    url =request.get_data(as_text=True)[5:]\n",
    "    url = urllib.parse.unquote(url)\n",
    "    article = Article(str(url))\n",
    "    article.download()\n",
    "    article.parse()\n",
    "    article.nlp()\n",
    "    news = article.summary\n",
    "    #Passing the news article to the model and returing whether it is Fake or Real\n",
    "    pred = model.predict([news])\n",
    "    return render_template('main.html', prediction_text='The news is \"{}\"'.format(pred[0]))\n",
    "    \n",
    "if __name__==\"__main__\":\n",
    "    port=int(os.environ.get('PORT',5000))\n",
    "    app.run(port=port,debug=True,use_reloader=False)\n"
   ]
  },
  {
   "cell_type": "code",
   "execution_count": null,
   "id": "12c2b56e",
   "metadata": {},
   "outputs": [],
   "source": []
  },
  {
   "cell_type": "code",
   "execution_count": null,
   "id": "4d90623e",
   "metadata": {},
   "outputs": [],
   "source": []
  },
  {
   "cell_type": "code",
   "execution_count": null,
   "id": "2a462725",
   "metadata": {},
   "outputs": [],
   "source": []
  }
 ],
 "metadata": {
  "kernelspec": {
   "display_name": "Python 3 (ipykernel)",
   "language": "python",
   "name": "python3"
  },
  "language_info": {
   "codemirror_mode": {
    "name": "ipython",
    "version": 3
   },
   "file_extension": ".py",
   "mimetype": "text/x-python",
   "name": "python",
   "nbconvert_exporter": "python",
   "pygments_lexer": "ipython3",
   "version": "3.10.2"
  }
 },
 "nbformat": 4,
 "nbformat_minor": 5
}
